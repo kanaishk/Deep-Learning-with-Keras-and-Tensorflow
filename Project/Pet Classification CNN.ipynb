{
 "cells": [
  {
   "cell_type": "raw",
   "id": "9e30ffd4-4d29-4742-a72e-54ea5a458afe",
   "metadata": {},
   "source": [
    "Project Objective:\n",
    "\n",
    "Build a CNN model that classifies the given pet images correctly into dog and cat images. \n",
    "The project scope document specifies the requirements for the project “Pet Classification Model Using CNN.” Apart from specifying the functional and non-functional requirements for the project, it also serves as an input for project scoping. \n",
    "\n",
    "Project Description and Scope: \n",
    "\n",
    "You are provided with a collection of images of pets, that is, cats and dogs. These images are of different sizes with varied lighting conditions and they should be used as inputs for your model.\n",
    "You are expected to write the code for CNN image classification model using TensorFlow that trains on the data and calculates the accuracy score on the test data. \n",
    "\n",
    "Project Guidelines:\n",
    "\n",
    "Begin by creating the ipynb file in the same parent folder where the downloaded data set is kept. The CNN model should have the following layers: \n",
    "● Input layer \n",
    "● Convolutional layer 1 with 32 filters of kernel size[5,5] \n",
    "● Pooling layer 1 with pool size[2,2] and stride 2 \n",
    "● Convolutional layer 2 with 64 filters of kernel size[5,5] \n",
    "● Pooling layer 2 with pool size[2,2] and stride 2 \n",
    "● Dense layer whose output size is fixed in the hyper parameter: fc_size=32 \n",
    "● Dropout layer with dropout probability 0.4 \n",
    "Predict the class by doing a softmax on the output of the dropout layers. \n",
    "This should be followed by training and evaluation: \n",
    "● For the training step, define the loss function and minimize it \n",
    "● For the evaluation step, calculate the accuracy \n",
    "Run the program for 100, 200, and 300 iterations, respectively. Follow this by a report on the final accuracy and loss on the evaluation data. "
   ]
  },
  {
   "cell_type": "markdown",
   "id": "49008de5-ce45-4250-97c5-1123fa7b0a4c",
   "metadata": {},
   "source": [
    "<h3>Importing the libraries</h3>"
   ]
  },
  {
   "cell_type": "code",
   "execution_count": null,
   "id": "b7e6be83-f6a1-4629-a4b2-36408a96d0d5",
   "metadata": {},
   "outputs": [],
   "source": [
    "import sys"
   ]
  },
  {
   "cell_type": "code",
   "execution_count": null,
   "id": "bf552942-b479-4161-99ca-a29698087f73",
   "metadata": {},
   "outputs": [],
   "source": [
    "!{sys.executable} -m pip install tensorflow\n",
    "!{sys.executable} -m pip install pydot"
   ]
  },
  {
   "cell_type": "code",
   "execution_count": null,
   "id": "12d1e7b2-62cf-4330-a962-182f416489d5",
   "metadata": {},
   "outputs": [],
   "source": [
    "import os\n",
    "import matplotlib.pyplot as plt\n",
    "import pydot\n",
    "import pandas as pd\n",
    "import numpy as np"
   ]
  },
  {
   "cell_type": "code",
   "execution_count": null,
   "id": "6b9cedaa-cdb4-4f69-bc6f-67eb79fa2012",
   "metadata": {
    "tags": []
   },
   "outputs": [],
   "source": [
    "import warnings\n",
    "warnings.filterwarnings('ignore')"
   ]
  },
  {
   "cell_type": "code",
   "execution_count": null,
   "id": "aaf7a65a-efd8-49eb-ae1d-a5c2d54055bb",
   "metadata": {},
   "outputs": [],
   "source": [
    "import tensorflow as tf\n",
    "from tensorflow import keras\n",
    "from tensorflow.keras import layers\n",
    "from tensorflow.keras.preprocessing.image import ImageDataGenerator"
   ]
  },
  {
   "cell_type": "code",
   "execution_count": null,
   "id": "642335c9-0ee0-4a12-a0c8-46f839405b17",
   "metadata": {
    "tags": []
   },
   "outputs": [],
   "source": [
    "from keras.utils.vis_utils import plot_model"
   ]
  },
  {
   "cell_type": "markdown",
   "id": "42085b03-5608-42ad-8e20-e9acb7c36835",
   "metadata": {},
   "source": [
    "<h3>Hyperparameters</h3>"
   ]
  },
  {
   "cell_type": "code",
   "execution_count": null,
   "id": "d578e953-8061-42a4-bab4-7800615ac6c3",
   "metadata": {},
   "outputs": [],
   "source": [
    "fc_size = 32\n",
    "dropout_prob = 0.4\n",
    "num_iterations = [100, 200, 300]"
   ]
  },
  {
   "cell_type": "markdown",
   "id": "a8f3b510-3a67-4de1-aa4a-aa151418c1cf",
   "metadata": {},
   "source": [
    "<h3>Importing the dataset</h3>"
   ]
  },
  {
   "cell_type": "code",
   "execution_count": null,
   "id": "ce579f02-9700-4e81-b733-63eb8b16dd3f",
   "metadata": {},
   "outputs": [],
   "source": [
    "cwd = os.getcwd()\n",
    "dataset_dir = os.path.join(cwd,'Dataset')\n",
    "model_dir = os.path.join(cwd,'Model')\n",
    "graph_dir = os.path.join(cwd,'Graphs')"
   ]
  },
  {
   "cell_type": "code",
   "execution_count": null,
   "id": "3e3dfebf-e1d7-400e-ab64-5b2745d4cef3",
   "metadata": {},
   "outputs": [],
   "source": [
    "train_datagen = ImageDataGenerator(brightness_range=[0.1,0.4],\n",
    "                                   shear_range=0.2, \n",
    "                                   zoom_range=0.2, \n",
    "                                   horizontal_flip=True,\n",
    "                                   rotation_range = 20,\n",
    "                                   width_shift_range=0.2,\n",
    "                                   height_shift_range=0.2,\n",
    "                                   fill_mode='nearest',\n",
    "                                   validation_split = 0.2)\n",
    "test_datagen = ImageDataGenerator()"
   ]
  },
  {
   "cell_type": "code",
   "execution_count": null,
   "id": "89ca8122-5e0d-4e13-a761-91ab7319af1d",
   "metadata": {},
   "outputs": [],
   "source": [
    "train_dataset = train_datagen.flow_from_directory(os.path.join(dataset_dir,'train'), \n",
    "                                                  target_size=(224, 224), \n",
    "                                                  batch_size=8,\n",
    "                                                  color_mode = 'rgb')\n",
    "test_dataset = test_datagen.flow_from_directory(os.path.join(dataset_dir,'test'), \n",
    "                                                target_size=(224, 224),\n",
    "                                                color_mode = 'rgb')"
   ]
  },
  {
   "cell_type": "markdown",
   "id": "f6484b76-819e-4d97-a194-4ba8d04f4329",
   "metadata": {
    "tags": []
   },
   "source": [
    "<h3>Building the model with Softmax</h3>"
   ]
  },
  {
   "cell_type": "code",
   "execution_count": null,
   "id": "fa8ee394-8374-44fe-b1f0-edc6011e4422",
   "metadata": {},
   "outputs": [],
   "source": [
    "model = keras.Sequential([\n",
    "    layers.Conv2D(32, (5, 5), activation='relu', input_shape=(224, 224, 3)),\n",
    "    layers.MaxPooling2D(pool_size=(2,2), strides=2),\n",
    "    layers.Conv2D(64, (5, 5), activation='relu'),\n",
    "    layers.MaxPooling2D(pool_size=(2,2), strides=2),\n",
    "    layers.Flatten(),\n",
    "    layers.Dense(units=fc_size, activation='relu'),\n",
    "    layers.Dropout(dropout_prob),\n",
    "    layers.Dense(2, activation='softmax')\n",
    "])"
   ]
  },
  {
   "cell_type": "code",
   "execution_count": null,
   "id": "bd47dcc2-08f3-4df0-b032-9c8ac51f8b4b",
   "metadata": {
    "tags": []
   },
   "outputs": [],
   "source": [
    "model.compile(optimizer='adam', loss='categorical_crossentropy', metrics=['accuracy'])"
   ]
  },
  {
   "cell_type": "code",
   "execution_count": null,
   "id": "d54a9272-2eb7-4b6c-8188-03295f69464e",
   "metadata": {
    "tags": []
   },
   "outputs": [],
   "source": [
    "model.summary()"
   ]
  },
  {
   "cell_type": "markdown",
   "id": "f93173df-cc05-482e-bb9a-c6f62a80bff2",
   "metadata": {},
   "source": [
    "<h3>Training the model</h3>"
   ]
  },
  {
   "cell_type": "code",
   "execution_count": null,
   "id": "91670592-4f94-4098-acf9-fb4883ef2ac5",
   "metadata": {
    "tags": []
   },
   "outputs": [],
   "source": [
    "for iterations in num_iterations:\n",
    "    plot_model(model,to_file=os.path.join(graph_dir,f'Pet_Classification_CNN_{iterations}_Softmax_Adam.png'),show_shapes=True,show_layer_names=True)\n",
    "    print(f\"Training for {iterations} iterations\")\n",
    "    history = model.fit(train_dataset, epochs=iterations, validation_data=test_dataset, verbose=0)\n",
    "    \n",
    "    max_loss_train=min(history.history['loss'])*100\n",
    "    max_acc_val=max(history.history['val_accuracy'])*100\n",
    "    print(f'Maximum Training Loss is {max_loss_train}')\n",
    "    print(f'Maximum Validation Accuracy obtained is {max_acc_val}%')\n",
    "    \n",
    "    #summarizing history for accuracy\n",
    "    plt.plot(history.history['accuracy'])\n",
    "    plt.plot(history.history['val_accuracy'])\n",
    "    title = f'Model Accuracy for {iterations} iterations Softmax Adam'\n",
    "    plt.title(title)\n",
    "    plt.ylabel('Accuracy')\n",
    "    plt.xlabel('Epoch')\n",
    "    plt.legend(['Train', 'Test'])\n",
    "    plt.savefig(os.path.join(graph_dir,title+'.png'), bbox_inches='tight')\n",
    "    plt.show()\n",
    "    plt.close()\n",
    "    \n",
    "    #summarizing history for loss\n",
    "    plt.plot(history.history['loss'])\n",
    "    plt.plot(history.history['val_loss'])\n",
    "    title = f'Model Loss for {iterations} iterations Softmax Adam'\n",
    "    plt.title(title)\n",
    "    plt.ylabel('Loss')\n",
    "    plt.xlabel('Epoch')\n",
    "    plt.legend(['Train','Test'])\n",
    "    plt.savefig(os.path.join(graph_dir,title+'.png'), bbox_inches='tight')\n",
    "    plt.show()\n",
    "    plt.close()\n",
    "    \n",
    "    model.save(os.path.join(model_dir,f'Pet_Classification_CNN_{iterations}_Softmax_Adam.h5'))"
   ]
  },
  {
   "cell_type": "code",
   "execution_count": null,
   "id": "d7bcb3e1-8aa1-4537-9797-6d2c35149a19",
   "metadata": {},
   "outputs": [],
   "source": []
  }
 ],
 "metadata": {
  "kernelspec": {
   "display_name": "Python 3 (ipykernel)",
   "language": "python",
   "name": "python3"
  },
  "language_info": {
   "codemirror_mode": {
    "name": "ipython",
    "version": 3
   },
   "file_extension": ".py",
   "mimetype": "text/x-python",
   "name": "python",
   "nbconvert_exporter": "python",
   "pygments_lexer": "ipython3",
   "version": "3.11.3"
  }
 },
 "nbformat": 4,
 "nbformat_minor": 5
}
